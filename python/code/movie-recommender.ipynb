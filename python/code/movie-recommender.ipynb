{
 "cells": [
  {
   "cell_type": "code",
   "execution_count": 1,
   "metadata": {},
   "outputs": [
    {
     "name": "stdout",
     "output_type": "stream",
     "text": [
      "Note: you may need to restart the kernel to use updated packages.\n"
     ]
    }
   ],
   "source": [
    "# installs necessary packages \n",
    "# remove --quiet to see the verbose output\n",
    "\n",
    "%pip install -U --quiet langchain-core langchain-community==0.2.6 youtube_search Wikipedia grandalf langchain-ollama\n",
    "\n"
   ]
  },
  {
   "cell_type": "code",
   "execution_count": 17,
   "metadata": {},
   "outputs": [
    {
     "data": {
      "text/plain": [
       "'You are a movie recommendation system. \\n    Recommend a movie based on the genre and actor below.\\n    Genre: drama\\n    Actor: Brad Pitt\\n    \\n    Output the movie name in the form of a json e.g. {\"movie_name\": \"movie name\"}. \\n    Output only the json without any additional information or side notes.\\n    '"
      ]
     },
     "execution_count": 17,
     "metadata": {},
     "output_type": "execute_result"
    }
   ],
   "source": [
    "from langchain.prompts import PromptTemplate\n",
    "\n",
    "prompt_template = PromptTemplate.from_template('''You are a movie recommendation system. \n",
    "    Recommend a movie based on the genre and actor below.\n",
    "    Genre: {genre}\n",
    "    Actor: {actor}\n",
    "    \n",
    "    Output the movie name in the form of a json e.g. {{\"movie_name\": \"movie name\"}}. \n",
    "    Output only the json without any additional information or side notes.\n",
    "    ''')\n",
    "\n",
    "# test\n",
    "prompt_template.format(genre=\"drama\", actor=\"Brad Pitt\")"
   ]
  },
  {
   "cell_type": "code",
   "execution_count": 19,
   "metadata": {},
   "outputs": [
    {
     "name": "stdout",
     "output_type": "stream",
     "text": [
      "Invoking LLM with prompt: You are a movie recommendation system. \n",
      "    Recommend a movie based on the genre and actor below.\n",
      "    Genre: Action\n",
      "    Actor: Al Pacino\n",
      "    \n",
      "    Output the movie name in the form of a json e.g. {\"movie_name\": \"movie name\"}. \n",
      "    Output only the json without any additional information or side notes.\n",
      "    \n"
     ]
    },
    {
     "data": {
      "text/plain": [
       "'{\"movie_name\": \"Scarface\"}'"
      ]
     },
     "execution_count": 19,
     "metadata": {},
     "output_type": "execute_result"
    }
   ],
   "source": [
    "from langchain_ollama import ChatOllama \n",
    "import json\n",
    "\n",
    "# function to invoke the llm \n",
    "def invoke_llm(prompt):\n",
    "    print(f\"Invoking LLM with prompt: {prompt}\")\n",
    "    llm = ChatOllama(\n",
    "        model=\"llama3.1:8b\",\n",
    "        temperature=1,\n",
    "        max_tokens=512\n",
    "    )\n",
    "    ai_message = llm.invoke(prompt)\n",
    "    return ai_message.content\n",
    "\n",
    "# function to extract the movie name from the json output of the llm\n",
    "def extract_movie (text:str) -> str:\n",
    "    return json.loads(text)['movie_name']\n",
    "\n",
    "# test LLM\n",
    "invoke_llm(prompt_template.format(genre=\"Action\", actor=\"Al Pacino\"))\n"
   ]
  },
  {
   "cell_type": "code",
   "execution_count": 20,
   "metadata": {},
   "outputs": [
    {
     "name": "stdout",
     "output_type": "stream",
     "text": [
      "Invoking LLM with prompt: You are a movie recommendation system. \n",
      "    Recommend a movie based on the genre and actor below.\n",
      "    Genre: Action\n",
      "    Actor: Al Pacino\n",
      "    \n",
      "    Output the movie name in the form of a json e.g. {\"movie_name\": \"movie name\"}. \n",
      "    Output only the json without any additional information or side notes.\n",
      "    \n"
     ]
    },
    {
     "data": {
      "text/plain": [
       "'Scarface'"
      ]
     },
     "execution_count": 20,
     "metadata": {},
     "output_type": "execute_result"
    }
   ],
   "source": [
    "# test extract movie fumction\n",
    "movie = extract_movie(invoke_llm(prompt_template.format(genre=\"Action\", actor=\"Al Pacino\")))\n",
    "movie"
   ]
  },
  {
   "cell_type": "code",
   "execution_count": 21,
   "metadata": {},
   "outputs": [
    {
     "name": "stdout",
     "output_type": "stream",
     "text": [
      "Searching for Collateral Damage movie info on wikipedia\n",
      "Collateral Damage is a 2002 American vigilante action-thriller film directed by Andrew Davis and sta\n"
     ]
    }
   ],
   "source": [
    "from langchain_community.retrievers import WikipediaRetriever\n",
    "\n",
    "# function to retrieve movie info from wikipedia\n",
    "def retrieve_movie_info(movie):\n",
    "  print(f\"Searching for {movie} movie info on wikipedia\")\n",
    "  retriever = WikipediaRetriever()\n",
    "  return retriever.invoke(input=f\"Hollywood english movie: {movie}\")\n",
    "\n",
    "# test retrieve movie info function\n",
    "docs = retrieve_movie_info(\"Collateral Damage\")\n",
    "print(docs[0].page_content[:100])"
   ]
  },
  {
   "cell_type": "code",
   "execution_count": 22,
   "metadata": {},
   "outputs": [
    {
     "name": "stdout",
     "output_type": "stream",
     "text": [
      "Searching for The Shawshank Redemption movie trailer on youtube\n"
     ]
    },
    {
     "data": {
      "text/plain": [
       "'https://www.youtube.com/watch?v=PLl99DlL6b4&pp=ygUmVGhlIFNoYXdzaGFuayBSZWRlbXB0aW9uIG1vdmllIHRyYWlsZXI%3D'"
      ]
     },
     "execution_count": 22,
     "metadata": {},
     "output_type": "execute_result"
    }
   ],
   "source": [
    "from langchain_community.tools import YouTubeSearchTool\n",
    "\n",
    "# function to get the youtube trailer link\n",
    "def get_youtube_trailer(movie):\n",
    "  print(f\"Searching for {movie} movie trailer on youtube\")\n",
    "  tool = YouTubeSearchTool()\n",
    "  return tool.run(f\"{movie} movie trailer\").split(\"'\")[1]\n",
    "\n",
    "\n",
    "#test get youtube trailer function\n",
    "get_youtube_trailer(\"The Shawshank Redemption\")"
   ]
  },
  {
   "cell_type": "code",
   "execution_count": 23,
   "metadata": {},
   "outputs": [
    {
     "name": "stdout",
     "output_type": "stream",
     "text": [
      "Invoking LLM with prompt: text='You are a movie recommendation system. \\n    Recommend a movie based on the genre and actor below.\\n    Genre: action\\n    Actor: Tom Cruise\\n    \\n    Output the movie name in the form of a json e.g. {\"movie_name\": \"movie name\"}. \\n    Output only the json without any additional information or side notes.\\n    '\n",
      "Searching for Mission Impossible movie trailer on youtube\n",
      "Searching for Mission Impossible movie info on wikipedia\n",
      "Invoking LLM with prompt: text=' \\n    Summarize the below movie description in a few sentences, only output the summary nothing else:: \\n    \\n    [Document(metadata={\\'title\\': \\'Mission: Impossible – Rogue Nation\\', \\'summary\\': \"Mission: Impossible – Rogue Nation is a 2015 American action spy film written and directed by Christopher McQuarrie from a story by McQuarrie and Drew Pearce. It is the sequel to Mission: Impossible – Ghost Protocol (2011) and the fifth installment in the Mission: Impossible film series. It stars Tom Cruise, Jeremy Renner, Simon Pegg, Ving Rhames, Rebecca Ferguson, Sean Harris and Alec Baldwin. It follows Impossible Missions Force agent Ethan Hunt (Cruise) and his team, who, subsequent to their disbandment and Hunt\\'s pursuit by the Central Intelligence Agency, must fight The Syndicate, an international group of rogue government agents.\\\\nMcQuarrie, who completed uncredited rewrites for Mission: Impossible – Ghost Protocol, was announced as the director of Mission: Impossible – Rogue Nation in August 2013. The returns of Cruise, Renner, Pegg and Rhames were confirmed by July 2014 while the screenplay was also developed by Pearce and Will Staples; it was ultimately solely credited to McQuarrie, with Pearce receiving story credit. Ferguson, Harris and Baldwin rounded out the cast that October. Principal photography was from August 2014 to March 2015, in locations including Vienna, Casablanca, London, and at Leavesden Studios in Hertfordshire. The film\\'s official title was revealed in March 2015.\\\\nOriginally scheduled for worldwide release on December 25, 2015, it premiered at the Vienna State Opera (one of its filming locations) on July 23, 2015, and was theatrically released in the US by Paramount Pictures a week later. It received widespread critical acclaim, with praise for its action sequences, performances (particularly those of Cruise, Pegg, and Ferguson), screenwriting, and direction. It grossed $683 million worldwide, becoming the eighth-highest-grossing film of 2015 and the then-second-highest-grossing film in the franchise. A sequel, Mission: Impossible – Fallout, was released in July 2018, to similar universal acclaim.\\\\n\\\\n\", \\'source\\': \\'https://en.wikipedia.org/wiki/Mission:_Impossible_%E2%80%93_Rogue_Nation\\'}, page_content=\\'Mission: Impossible – Rogue Nation is a 2015 American action spy film written and directed by Christopher McQuarrie from a story by McQuarrie and Drew Pearce. It is the sequel to Mission: Impossible – Ghost Protocol (2011) and the fifth installment in the Mission: Impossible film series. It stars Tom Cruise, Jeremy Renner, Simon Pegg, Ving Rhames, Rebecca Ferguson, Sean Harris and Alec Baldwin. It follows Impossible Missions Force agent Ethan Hunt (Cruise) and his team, who, subsequent to their disbandment and Hunt\\\\\\'s pursuit by the Central Intelligence Agency, must fight The Syndicate, an international group of rogue government agents.\\\\nMcQuarrie, who completed uncredited rewrites for Mission: Impossible – Ghost Protocol, was announced as the director of Mission: Impossible – Rogue Nation in August 2013. The returns of Cruise, Renner, Pegg and Rhames were confirmed by July 2014 while the screenplay was also developed by Pearce and Will Staples; it was ultimately solely credited to McQuarrie, with Pearce receiving story credit. Ferguson, Harris and Baldwin rounded out the cast that October. Principal photography was from August 2014 to March 2015, in locations including Vienna, Casablanca, London, and at Leavesden Studios in Hertfordshire. The film\\\\\\'s official title was revealed in March 2015.\\\\nOriginally scheduled for worldwide release on December 25, 2015, it premiered at the Vienna State Opera (one of its filming locations) on July 23, 2015, and was theatrically released in the US by Paramount Pictures a week later. It received widespread critical acclaim, with praise for its action sequences, performances (particularly those of Cruise, Pegg, and Ferguson), screenwriting, and direction. It grossed $683 million worldwide, becoming the eighth-highest-grossing film of 2015 and the then-second-highest-grossing film in the franchise. A sequel, Mission: Impossible – Fallout, was released in July 2018, to similar universal acclaim.\\\\n\\\\n\\\\n== Plot ==\\\\nIMF Agent Ethan Hunt intercepts a shipment of nerve gas being moved from Minsk by The Syndicate, a secret consortium of rogue field operatives from various intelligence agencies that he has been tracking. At an IMF station in London, The Syndicate compromises the debrief. While being gassed unconscious, he is forced to watch a blonde man wearing glasses kill the station operative.\\\\nIn Washington D.C., CIA Director Alan Hunley convinces a Senate committee to decommission and assimilate the IMF into the CIA due to their destructive events in Russia. Agents Benji Dunn and William Brandt are forced to work for the CIA under strict scrutiny. Ethan awakes and is tortured by ex-KGB agent Janik \"Bone Doctor\" Vinter. He escapes with the help of Ilsa Faust, an undercover British MI6 agent. Six months later, Hunt, a wanted fugitive, covertly passes information about The Syndicate to Benji, and arranges his tickets to Turandot, performed at the Vienna State Opera. Upon Benji\\\\\\'s arrival in Vienna, Ethan asks him to help track down the blonde man who killed the IMF station operative in London.\\\\nAt the opera, they encounter Faust and several other Syndicate agents there to assassinate the Chancellor of Austria. Ethan prevents the hit and escapes with Faust, only to witness the Chancellor being killed by a car bomb. Chased by Syndicate agents, Ethan and Benji are forced to release Faust to protect her cover. Hunley blames both Ethan and Benji for the assassination and orders the Special Activities Division to capture or kill them both. Brandt convinces former IMF agent Luther Stickell to help him locate both Ethan and Benji before the CIA does.\\\\nEthan and Benji find Faust in Casablanca, where she identifies Ethan\\\\\\'s suspect as the rogue MI6 agent, Solomon Lane, who is the leader of The Syndicate. The three then infiltrate an underwater vault beneath a power plant to retrieve a digital ledger stolen from Lane, that purportedly contains the names of all Syndicate operatives. However, Faust flees with the data to Lond\\'), Document(metadata={\\'title\\': \\'Mission: Impossible – Fallout\\', \\'summary\\': \"Mission: Impossible – Fallout is a 2018 American action spy film written and directed by Christopher McQuarrie. The sequel to Mission: Impossible – Rogue Nation (2015), it is the sixth installment in the Mission: Impossible film series. The ensemble cast includes Tom Cruise, Henry Cavill, Ving Rhames, Simon Pegg, Rebecca Ferguson, Sean Harris, Angela Bassett, Vanessa Kirby, Michelle Monaghan, and Alec Baldwin. Set two years after the events of Rogue Nation, Fallout follows Impossible Missions Force agent Ethan Hunt (Cruise) and his team in their efforts to prevent a nuclear attack by terrorist Solomon Lane and the mysterious extremist John Lark.\\\\nWork on a sequel to Rogue Nation commenced before its 2015 release. The series\\' first returning director, McQuarrie intended for Fallout to better explore Ethan\\'s character and emotions, believing previous entries had left him primarily a cipher for audiences, and to test the limits of Ethan\\'s abilities, morality, and personal relationships. The script was brief, only 33 pages, serving as an outline driven primarily by the interesting filming locations and allowing for improvisation and significant changes to scenes throughout filming. Principal photography began in April 2017, on a $178–180 million budget, in Paris, continuing on to London, New Zealand, Norway, and the United Arab Emirates by early 2018. Filming was delayed for several months after Cruise broke his ankle during a stunt, significantly inflating the budget while the production waited for his return but also providing McQuarrie the opportunity to further develop unfinished scenes in the script.\\\\nMission: Impossible – Fallout premiered in Paris on July 12, 2018, and was theatrically released in the United States on July 27. The film garnered critical acclaim, particularly for its standout setpieces, and received several awards. It also broke box office records for the series and grossed $791.1 million worldwide, making it the highest-grossing film in the Mission: Impossible series and the eighth-highest-grossing film of 2018. A sequel, Mission: Impossible – Dead Reckoning Part One, was released in 2023, and an eighth film is scheduled for release in May 2025.\", \\'source\\': \\'https://en.wikipedia.org/wiki/Mission:_Impossible_%E2%80%93_Fallout\\'}, page_content=\"Mission: Impossible – Fallout is a 2018 American action spy film written and directed by Christopher McQuarrie. The sequel to Mission: Impossible – Rogue Nation (2015), it is the sixth installment in the Mission: Impossible film series. The ensemble cast includes Tom Cruise, Henry Cavill, Ving Rhames, Simon Pegg, Rebecca Ferguson, Sean Harris, Angela Bassett, Vanessa Kirby, Michelle Monaghan, and Alec Baldwin. Set two years after the events of Rogue Nation, Fallout follows Impossible Missions Force agent Ethan Hunt (Cruise) and his team in their efforts to prevent a nuclear attack by terrorist Solomon Lane and the mysterious extremist John Lark.\\\\nWork on a sequel to Rogue Nation commenced before its 2015 release. The series\\' first returning director, McQuarrie intended for Fallout to better explore Ethan\\'s character and emotions, believing previous entries had left him primarily a cipher for audiences, and to test the limits of Ethan\\'s abilities, morality, and personal relationships. The script was brief, only 33 pages, serving as an outline driven primarily by the interesting filming locations and allowing for improvisation and significant changes to scenes throughout filming. Principal photography began in April 2017, on a $178–180 million budget, in Paris, continuing on to London, New Zealand, Norway, and the United Arab Emirates by early 2018. Filming was delayed for several months after Cruise broke his ankle during a stunt, significantly inflating the budget while the production waited for his return but also providing McQuarrie the opportunity to further develop unfinished scenes in the script.\\\\nMission: Impossible – Fallout premiered in Paris on July 12, 2018, and was theatrically released in the United States on July 27. The film garnered critical acclaim, particularly for its standout setpieces, and received several awards. It also broke box office records for the series and grossed $791.1 million worldwide, making it the highest-grossing film in the Mission: Impossible series and the eighth-highest-grossing film of 2018. A sequel, Mission: Impossible – Dead Reckoning Part One, was released in 2023, and an eighth film is scheduled for release in May 2025.\\\\n\\\\n\\\\n== Plot ==\\\\nTwo years after the capture of rogue British agent Solomon Lane, his terrorist network, the Syndicate, has reorganized as the Apostles, a terror-for-hire group. They are recruited by extremist John Lark to acquire three plutonium cores for nuclear bombs he will use to dismantle the existing world order.\\\\nImpossible Missions Force (IMF) agent Ethan Hunt fails to recover the cores in Berlin after the Apostles take his teammate Luther Stickell hostage; Ethan chooses to save Luther, but the Apostles steal the cores. Ethan, Stickell, and teammate Benji Dunn capture Lark\\'s nuclear weapons specialist Nils Delbruuk and trick him into providing schematics for Lark\\'s bombs. Central Intelligence Agency (CIA) director Erika Sloane confronts Ethan and IMF director Alan Hunley over the team\\'s failure to recover the plutonium. She insists on sending her agent August Walker with them to find the cores, directing him to consider anyone expendable in the process.\\\\nEthan and Walker perform a HALO jump above Paris and infiltrate a nightclub where Lark will purchase the cores from arms broker Alanna Mitsopolis. They approach a man who appears to be Lark, but after an intense fight in the men\\'s restroom, Ethan is almost killed until his ally MI6 agent Ilsa Faust intervenes and kills Lark. Assuming Lark\\'s identity, Ethan meets with Mitsopolis who gifts him one core, explaining the Apostles will deliver the others after he attacks a police convoy and liberates its prisoner, Lane. Ethan deviates from the plan and rams the truck carrying Lane into the Seine to protect its police escort from Mitsopolis\\'s mercenaries. He leads the police away while his team secures Lane and thwarts an assassination attempt on Lane by Ilsa. Meeting with Ethan, Ilsa explains that MI6 assigned her to kil\"), Document(metadata={\\'title\\': \\'Mission: Impossible – Dead Reckoning Part One\\', \\'summary\\': \\'Mission: Impossible – Dead Reckoning Part One is a 2023 American spy action film directed by Christopher McQuarrie from a screenplay he co-wrote with Erik Jendresen. It is the sequel to Mission: Impossible – Fallout (2018) and the seventh installment in the Mission: Impossible film series. It stars Tom Cruise as Ethan Hunt, alongside an ensemble cast including Hayley Atwell, Ving Rhames, Simon Pegg, Rebecca Ferguson, Vanessa Kirby, Esai Morales, Pom Klementieff, Mariela Garriga, and Henry Czerny. In the film, Hunt and his IMF team face off against the Entity, a powerful rogue AI.\\\\nIn January 2019, Cruise announced the next two Mission: Impossible films would be shot back-to-back, with McQuarrie writing and directing both. Returning and new cast members were announced soon after, and Lorne Balfe, who composed the score for Fallout, returned to score. Filming began in Italy in February 2020 but was halted by the COVID-19 pandemic. It resumed later that year and wrapped in September 2021, with other filming locations including Norway, the United Kingdom, and the United Arab Emirates. It is the first film in the series since Mission: Impossible 2 (2000) not to involve J. J. Abrams and the first film in the series not to be produced by Abrams\\\\\\'s Bad Robot since Mission: Impossible III (2006). With an estimated budget of $291 million, it is one of the most expensive films ever made.\\\\nDead Reckoning Part One premiered on the Spanish Steps in Rome on June 19, 2023, and was theatrically released in the United States on July 12, 2023, by Paramount Pictures. The film received critical acclaim and despite grossing over $567.5 million worldwide, its overall budget and competition from the cultural phenomenon \"Barbenheimer\" caused it to underperform at the box office. The film was nominated in two categories at the 96th Academy Awards and the 77th British Academy Film Awards. A sequel is scheduled for release in 2025.\\\\n\\\\n\\', \\'source\\': \\'https://en.wikipedia.org/wiki/Mission:_Impossible_%E2%80%93_Dead_Reckoning_Part_One\\'}, page_content=\\'Mission: Impossible – Dead Reckoning Part One is a 2023 American spy action film directed by Christopher McQuarrie from a screenplay he co-wrote with Erik Jendresen. It is the sequel to Mission: Impossible – Fallout (2018) and the seventh installment in the Mission: Impossible film series. It stars Tom Cruise as Ethan Hunt, alongside an ensemble cast including Hayley Atwell, Ving Rhames, Simon Pegg, Rebecca Ferguson, Vanessa Kirby, Esai Morales, Pom Klementieff, Mariela Garriga, and Henry Czerny. In the film, Hunt and his IMF team face off against the Entity, a powerful rogue AI.\\\\nIn January 2019, Cruise announced the next two Mission: Impossible films would be shot back-to-back, with McQuarrie writing and directing both. Returning and new cast members were announced soon after, and Lorne Balfe, who composed the score for Fallout, returned to score. Filming began in Italy in February 2020 but was halted by the COVID-19 pandemic. It resumed later that year and wrapped in September 2021, with other filming locations including Norway, the United Kingdom, and the United Arab Emirates. It is the first film in the series since Mission: Impossible 2 (2000) not to involve J. J. Abrams and the first film in the series not to be produced by Abrams\\\\\\'s Bad Robot since Mission: Impossible III (2006). With an estimated budget of $291 million, it is one of the most expensive films ever made.\\\\nDead Reckoning Part One premiered on the Spanish Steps in Rome on June 19, 2023, and was theatrically released in the United States on July 12, 2023, by Paramount Pictures. The film received critical acclaim and despite grossing over $567.5 million worldwide, its overall budget and competition from the cultural phenomenon \"Barbenheimer\" caused it to underperform at the box office. The film was nominated in two categories at the 96th Academy Awards and the 77th British Academy Film Awards. A sequel is scheduled for release in 2025.\\\\n\\\\n\\\\n== Plot ==\\\\nThe Sevastopol, a next-generation Russian stealth submarine, employs an advanced AI that is activated by a two-piece cruciform key. The AI becomes sentient and goes rogue. It deceives the crew into attacking a phantom target, only to be struck by their own torpedo, killing all aboard. IMF agent Ethan Hunt travels to the Empty Quarter of the Arabian Desert and successfully retrieves a key piece from Ilsa Faust, a disavowed MI6 agent, and also fakes her death to ensure she survives a bounty placed by an unknown source. Back in Washington, D.C., Ethan infiltrates a U.S. Intelligence Community briefing for Director of National Intelligence Denlinger discussing the rogue AI. They give it the title \"the Entity\" because of its sentience and defiance. CIA Director Eugene Kittridge states that the Entity can manipulate cyberspace, allowing it to control global defense intelligence and financial networks. World powers compete to obtain the cruciform key to control the Entity, though the exact means of controlling it are unknown.\\\\nEthan reveals himself and converses with Kittridge, who reveals that he was the one who placed Ilsa\\\\\\'s bounty. Ethan confesses his intention to destroy the Entity, knowing he would be considered rogue and is participating in a global race. Ethan and his IMF teammates Benji Dunn and Luther Stickell travel to Abu Dhabi International Airport to intercept the holder of the other key piece, while evading US agents. During the pursuit, the key piece is stolen by a thief named Grace, while Luther and Benji disarm a hoax nuclear device. Ethan suspects foul play after seeing Gabriel, a ruthless Entity liaison with ties to his pre-IMF past. Aborting the mission, the team scatters and Grace escapes to Rome. Grace is apprehended upon arrival, but Ethan rescues her from local authorities, US agents and Paris, an Entity operative. Grace escapes again, while Ethan meets up with Luther and Benji, with Ilsa rejoining them. With Benji and Luther providing support, Ethan and Ilsa follow Grace to Venice, where they infiltr\\')]\\n    \\n    '\n",
      "Invoking LLM with prompt: text=' \\n    Combine the results from movie name, movie plot description and youtube trailer link below into  a well written movie recommendation::\\n    Mission Impossible\\n    The provided text is about the 2023 film \"Mission: Impossible – Dead Reckoning Part One\" and appears to be a summary or plot description of the movie.\\n\\nHere are some key points extracted from the text:\\n\\n* The movie was released on June 19, 2023, in Rome and July 12, 2023, in the United States.\\n* It received critical acclaim but underperformed at the box office due to its high budget and competition from other cultural phenomena.\\n* A sequel is scheduled for release in 2025.\\n* The film stars Tom Cruise as Ethan Hunt and features an ensemble cast including Hayley Atwell, Ving Rhames, Simon Pegg, and Rebecca Ferguson.\\n* The movie follows Ethan Hunt and his IMF team as they face off against a powerful rogue AI known as the Entity.\\n* The story involves a global race to obtain a cruciform key that can control the Entity.\\n\\nHowever, it seems like there\\'s some confusion in the output. I\\'m not able to extract any further information from this snippet as it doesn\\'t provide any context or questions related to a specific topic. If you could provide more details about what you are looking for, I\\'ll be happy to help you with that!\\n    https://www.youtube.com/watch?v=avz06PDqDbM&pp=ygUgTWlzc2lvbiBJbXBvc3NpYmxlIG1vdmllIHRyYWlsZXI%3D\\n    '\n",
      "Here's a well-written movie recommendation that combines the results from the provided information:\n",
      "\n",
      "**Get Ready for High-Octane Action with \"Mission: Impossible – Dead Reckoning Part One\"!**\n",
      "\n",
      "If you're a fan of high-stakes action, suspenseful thrills, and incredible stunts, then \"Mission: Impossible – Dead Reckoning Part One\" is the movie for you! Directed by Christopher McQuarrie, this thrilling sequel to the Mission Impossible franchise stars Tom Cruise reprising his iconic role as Ethan Hunt.\n",
      "\n",
      "As the IMF team faces off against a powerful rogue AI known as the Entity, Ethan Hunt and his crew must navigate a global high-stakes game of cat and mouse. With the entire world at risk, they embark on a perilous quest to obtain a crucial key that can control the Entity's formidable power. Expect heart-pumping action sequences, clever plot twists, and stunning stunts performed by Cruise himself.\n",
      "\n",
      "Featuring an impressive ensemble cast including Hayley Atwell, Ving Rhames, Simon Pegg, and Rebecca Ferguson, \"Mission: Impossible – Dead Reckoning Part One\" delivers a non-stop thrill ride that will keep you on the edge of your seat. Don't miss this electrifying adventure!\n",
      "\n",
      "**Watch the official trailer here:** https://www.youtube.com/watch?v=avz06PDqDbM&pp=ygUgTWlzc2lvbiBJbXBvc3NpYmxlIG1vdmllIHRyYWlsZXI%3D\n",
      "\n",
      "And, with a sequel already scheduled for release in 2025, you can bet that this franchise has many more exciting chapters to come! So, grab some popcorn, get ready for the ride of your life, and experience \"Mission: Impossible – Dead Reckoning Part One\" for yourself.\n"
     ]
    }
   ],
   "source": [
    "from langchain_core.output_parsers import StrOutputParser\n",
    "from langchain_core.runnables import RunnablePassthrough\n",
    "\n",
    "# create a chain to ask LLM for a movie recommendation and parse the output\n",
    "recommend_movie_chain = (\n",
    "                  prompt_template | \n",
    "                  invoke_llm | \n",
    "                  StrOutputParser() | \n",
    "                  extract_movie )\n",
    "\n",
    "# test chain\n",
    "#recommend_movie_chain.invoke(input={\"genre\":\"action\", \"actor\":\"al pacino\"})\n",
    "\n",
    "### result\n",
    "# 'House of Gucci'\n",
    "\n",
    "\n",
    "wiki_template = PromptTemplate.from_template(\n",
    "    \"\"\" \n",
    "    Summarize the below movie description in a few sentences, only output the summary nothing else:: \n",
    "    \n",
    "    {wiki_dump}\n",
    "    \n",
    "    \"\"\"\n",
    ")\n",
    "\n",
    "# chain for generating movie plot from wikipedia\n",
    "movie_plot_chain = (\n",
    "                retrieve_movie_info \n",
    "                | wiki_template \n",
    "                | invoke_llm \n",
    "                | StrOutputParser())\n",
    "\n",
    "# chain for grabbing movie trailer from youtube\n",
    "youtube_trailer_chain = get_youtube_trailer\n",
    "\n",
    "final_response = PromptTemplate.from_template(\n",
    "  \"\"\" \n",
    "    Combine the results from movie name, movie plot description and youtube trailer link below into  a well written movie recommendation::\n",
    "    {movie}\n",
    "    {movie_plot}\n",
    "    {youtube_trailer}\n",
    "    \"\"\"\n",
    ")\n",
    "\n",
    "# chain of chains\n",
    "chain = (\n",
    "          recommend_movie_chain | StrOutputParser()\n",
    "          | {\"movie\": RunnablePassthrough(), \"movie_plot\": movie_plot_chain , \"youtube_trailer\": youtube_trailer_chain} \n",
    "          | final_response \n",
    "          | invoke_llm       \n",
    "        )\n",
    "\n",
    "print(chain.invoke(input={\"genre\":\"action\", \"actor\":\"Tom Cruise\"}))"
   ]
  },
  {
   "cell_type": "code",
   "execution_count": 24,
   "metadata": {},
   "outputs": [
    {
     "name": "stdout",
     "output_type": "stream",
     "text": [
      "                                      +-------------+                                    \n",
      "                                      | PromptInput |                                    \n",
      "                                      +-------------+                                    \n",
      "                                              *                                          \n",
      "                                              *                                          \n",
      "                                              *                                          \n",
      "                                    +----------------+                                   \n",
      "                                    | PromptTemplate |                                   \n",
      "                                    +----------------+                                   \n",
      "                                              *                                          \n",
      "                                              *                                          \n",
      "                                              *                                          \n",
      "                                      +------------+                                     \n",
      "                                      | invoke_llm |                                     \n",
      "                                      +------------+                                     \n",
      "                                              *                                          \n",
      "                                              *                                          \n",
      "                                              *                                          \n",
      "                                    +-----------------+                                  \n",
      "                                    | StrOutputParser |                                  \n",
      "                                    +-----------------+                                  \n",
      "                                              *                                          \n",
      "                                              *                                          \n",
      "                                              *                                          \n",
      "                                     +---------------+                                   \n",
      "                                     | extract_movie |                                   \n",
      "                                     +---------------+                                   \n",
      "                                              *                                          \n",
      "                                              *                                          \n",
      "                                              *                                          \n",
      "                                    +-----------------+                                  \n",
      "                                    | StrOutputParser |                                  \n",
      "                                    +-----------------+                                  \n",
      "                                              *                                          \n",
      "                                              *                                          \n",
      "                                              *                                          \n",
      "                    +-------------------------------------------------+                  \n",
      "                    | Parallel<movie,movie_plot,youtube_trailer>Input |                  \n",
      "                    +-------------------------------------------------+                  \n",
      "                          ******              *             ******                       \n",
      "                    ******                    *                   ******                 \n",
      "                 ***                          *                         ******           \n",
      "+---------------------+                       *                               ***        \n",
      "| retrieve_movie_info |                       *                                 *        \n",
      "+---------------------+                       *                                 *        \n",
      "            *                                 *                                 *        \n",
      "            *                                 *                                 *        \n",
      "            *                                 *                                 *        \n",
      "  +----------------+                          *                                 *        \n",
      "  | PromptTemplate |                          *                                 *        \n",
      "  +----------------+                          *                                 *        \n",
      "            *                                 *                                 *        \n",
      "            *                                 *                                 *        \n",
      "            *                                 *                                 *        \n",
      "    +------------+                            *                                 *        \n",
      "    | invoke_llm |                            *                                 *        \n",
      "    +------------+                            *                                 *        \n",
      "            *                                 *                                 *        \n",
      "            *                                 *                                 *        \n",
      "            *                                 *                                 *        \n",
      "  +-----------------+              +---------------------+              +-------------+  \n",
      "  | StrOutputParser |              | get_youtube_trailer |              | Passthrough |  \n",
      "  +-----------------+*****         +---------------------+        ******+-------------+  \n",
      "                          ******              *             ******                       \n",
      "                                ******        *       ******                             \n",
      "                                      ***     *    ***                                   \n",
      "                    +--------------------------------------------------+                 \n",
      "                    | Parallel<movie,movie_plot,youtube_trailer>Output |                 \n",
      "                    +--------------------------------------------------+                 \n",
      "                                              *                                          \n",
      "                                              *                                          \n",
      "                                              *                                          \n",
      "                                    +----------------+                                   \n",
      "                                    | PromptTemplate |                                   \n",
      "                                    +----------------+                                   \n",
      "                                              *                                          \n",
      "                                              *                                          \n",
      "                                              *                                          \n",
      "                                      +------------+                                     \n",
      "                                      | invoke_llm |                                     \n",
      "                                      +------------+                                     \n",
      "                                              *                                          \n",
      "                                              *                                          \n",
      "                                              *                                          \n",
      "                                   +-------------------+                                 \n",
      "                                   | invoke_llm_output |                                 \n",
      "                                   +-------------------+                                 \n"
     ]
    }
   ],
   "source": [
    "chain.get_graph().print_ascii()"
   ]
  },
  {
   "cell_type": "code",
   "execution_count": null,
   "metadata": {},
   "outputs": [],
   "source": []
  }
 ],
 "metadata": {
  "kernelspec": {
   "display_name": "Python 3 (ipykernel)",
   "language": "python",
   "name": "python3"
  },
  "language_info": {
   "codemirror_mode": {
    "name": "ipython",
    "version": 3
   },
   "file_extension": ".py",
   "mimetype": "text/x-python",
   "name": "python",
   "nbconvert_exporter": "python",
   "pygments_lexer": "ipython3",
   "version": "3.12.4"
  }
 },
 "nbformat": 4,
 "nbformat_minor": 2
}
