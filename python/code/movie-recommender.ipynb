{
 "cells": [
  {
   "cell_type": "code",
   "execution_count": 1,
   "metadata": {},
   "outputs": [
    {
     "name": "stdout",
     "output_type": "stream",
     "text": [
      "Note: you may need to restart the kernel to use updated packages.\n"
     ]
    }
   ],
   "source": [
    "# installs necessary packages \n",
    "# remove --quiet to see the verbose output\n",
    "\n",
    "\n",
    "%pip install -U --quiet langchain-core langchain-community==0.2.6 youtube_search Wikipedia grandalf langchain-ollama\n",
    "\n"
   ]
  },
  {
   "cell_type": "code",
   "execution_count": 2,
   "metadata": {},
   "outputs": [
    {
     "data": {
      "text/plain": [
       "'You are a movie recommendation system. \\n    Recommend a movie based on the genre and actor below.\\n    Genre: drama\\n    Actor: Brad Pitt\\n    \\n    Output the movie name in the form of a json e.g. {\"movie_name\": \"movie name\"}. \\n    Output only the json without any additional information or side notes.\\n    '"
      ]
     },
     "execution_count": 2,
     "metadata": {},
     "output_type": "execute_result"
    }
   ],
   "source": [
    "from langchain.prompts import PromptTemplate\n",
    "\n",
    "prompt_template = PromptTemplate.from_template('''You are a movie recommendation system. \n",
    "    Recommend a movie based on the genre and actor below.\n",
    "    Genre: {genre}\n",
    "    Actor: {actor}\n",
    "    \n",
    "    Output the movie name in the form of a json e.g. {{\"movie_name\": \"movie name\"}}. \n",
    "    Output only the json without any additional information or side notes.\n",
    "    ''')\n",
    "\n",
    "# test\n",
    "prompt_template.format(genre=\"drama\", actor=\"Brad Pitt\")"
   ]
  },
  {
   "cell_type": "code",
   "execution_count": 3,
   "metadata": {},
   "outputs": [
    {
     "name": "stdout",
     "output_type": "stream",
     "text": [
      "Invoking LLM with prompt: You are a movie recommendation system. \n",
      "    Recommend a movie based on the genre and actor below.\n",
      "    Genre: Action\n",
      "    Actor: Al Pacino\n",
      "    \n",
      "    Output the movie name in the form of a json e.g. {\"movie_name\": \"movie name\"}. \n",
      "    Output only the json without any additional information or side notes.\n",
      "    \n"
     ]
    },
    {
     "data": {
      "text/plain": [
       "'{\"movie_name\": \"Carlito\\'s Way\"}'"
      ]
     },
     "execution_count": 3,
     "metadata": {},
     "output_type": "execute_result"
    }
   ],
   "source": [
    "from langchain_ollama import ChatOllama \n",
    "import json\n",
    "\n",
    "# function to invoke the llm \n",
    "def invoke_llm(prompt):\n",
    "    print(f\"Invoking LLM with prompt: {prompt}\")\n",
    "    llm = ChatOllama(\n",
    "        model=\"llama3.1:8b\",\n",
    "        temperature=1,\n",
    "        max_tokens=512\n",
    "    )\n",
    "    ai_message = llm.invoke(prompt)\n",
    "    return ai_message.content\n",
    "\n",
    "# function to extract the movie name from the json output of the llm\n",
    "def extract_movie (text:str) -> str:\n",
    "    return json.loads(text)['movie_name']\n",
    "\n",
    "# test LLM\n",
    "invoke_llm(prompt_template.format(genre=\"Action\", actor=\"Al Pacino\"))\n"
   ]
  },
  {
   "cell_type": "code",
   "execution_count": 4,
   "metadata": {},
   "outputs": [
    {
     "name": "stdout",
     "output_type": "stream",
     "text": [
      "Invoking LLM with prompt: You are a movie recommendation system. \n",
      "    Recommend a movie based on the genre and actor below.\n",
      "    Genre: Action\n",
      "    Actor: Al Pacino\n",
      "    \n",
      "    Output the movie name in the form of a json e.g. {\"movie_name\": \"movie name\"}. \n",
      "    Output only the json without any additional information or side notes.\n",
      "    \n"
     ]
    },
    {
     "data": {
      "text/plain": [
       "'Serpico'"
      ]
     },
     "execution_count": 4,
     "metadata": {},
     "output_type": "execute_result"
    }
   ],
   "source": [
    "# test extract movie fumction\n",
    "movie = extract_movie(invoke_llm(prompt_template.format(genre=\"Action\", actor=\"Al Pacino\")))\n",
    "movie"
   ]
  },
  {
   "cell_type": "code",
   "execution_count": 4,
   "metadata": {},
   "outputs": [
    {
     "name": "stdout",
     "output_type": "stream",
     "text": [
      "Searching for Collateral Damage movie info on wikipedia\n",
      "Collateral Damage is a 2002 American vigilante action-thriller film directed by Andrew Davis and starring Arnold Schwarzenegger, Elias Koteas, Francesca Neri, Cliff Curtis, John Leguizamo, and John Turturro. The film tells the story of Los Angeles firefighter Gordon Brewer (Schwarzenegger), who seeks to avenge his son's and wife's deaths at the hands of a guerrilla commando, by traveling to Colombia and facing his family's killers. \n",
      "Collateral Damage was released in the United States on February 8, 2002, to negative reviews, and was a commercial failure.\n"
     ]
    }
   ],
   "source": [
    "from langchain_community.retrievers import WikipediaRetriever\n",
    "\n",
    "# function to retrieve movie info from wikipedia\n",
    "def retrieve_movie_info(movie):\n",
    "  print(f\"Searching for {movie} movie info on wikipedia\")\n",
    "  retriever = WikipediaRetriever()\n",
    "  docs = retriever.invoke(input=f\"Hollywood english movie: {movie}\")\n",
    "  return docs[0].metadata['summary']\n",
    "\n",
    "# test retrieve movie info function\n",
    "movie_plot = retrieve_movie_info(\"Collateral Damage\")\n",
    "print(movie_plot)"
   ]
  },
  {
   "cell_type": "code",
   "execution_count": 5,
   "metadata": {},
   "outputs": [
    {
     "name": "stdout",
     "output_type": "stream",
     "text": [
      "Searching for The Shawshank Redemption movie trailer on youtube\n"
     ]
    },
    {
     "data": {
      "text/plain": [
       "'https://www.youtube.com/watch?v=PLl99DlL6b4&pp=ygUmVGhlIFNoYXdzaGFuayBSZWRlbXB0aW9uIG1vdmllIHRyYWlsZXI%3D'"
      ]
     },
     "execution_count": 5,
     "metadata": {},
     "output_type": "execute_result"
    }
   ],
   "source": [
    "from langchain_community.tools import YouTubeSearchTool\n",
    "\n",
    "# function to get the youtube trailer link\n",
    "def get_youtube_trailer(movie):\n",
    "  print(f\"Searching for {movie} movie trailer on youtube\")\n",
    "  tool = YouTubeSearchTool()\n",
    "  return tool.run(f\"{movie} movie trailer\").split(\"'\")[1]\n",
    "\n",
    "\n",
    "#test get youtube trailer function\n",
    "get_youtube_trailer(\"The Shawshank Redemption\")"
   ]
  },
  {
   "cell_type": "code",
   "execution_count": 8,
   "metadata": {},
   "outputs": [
    {
     "name": "stdout",
     "output_type": "stream",
     "text": [
      "Invoking LLM with prompt: text='You are a movie recommendation system. \\n    Recommend a movie based on the genre and actor below.\\n    Genre: action\\n    Actor: angelina jolie\\n    \\n    Output the movie name in the form of a json e.g. {\"movie_name\": \"movie name\"}. \\n    Output only the json without any additional information or side notes.\\n    '\n",
      "Searching for Tomb Raider movie info on wikipediaSearching for Tomb Raider movie trailer on youtube\n",
      "\n",
      "Invoking LLM with prompt: text=' \\n    Summarize the below movie description in a few sentences, only output the summary nothing else:: \\n    \\n    Tomb Raider is a 2018 action-adventure film directed by Roar Uthaug, with a screenplay by Geneva Robertson-Dworet and Alastair Siddons, from a story by Evan Daugherty and Robertson-Dworet. An American and British co-production, it is based on the 2013 video game of the same name, with some elements of its sequel by Crystal Dynamics, a reboot, and the third installment in the Tomb Raider film series. The film stars Alicia Vikander as Lara Croft, who embarks on a perilous journey to her father\\'s last-known destination, hoping to solve the mystery of his disappearance. Dominic West, Walton Goggins, Daniel Wu, and Kristin Scott Thomas appear in supporting roles.\\nPrincipal photography took place from January to June 2017 at Warner Bros. Studios, Leavesden in Hertfordshire, England, and Cape Town, South Africa. The film was also shot on location across London, particularly East London. The first Tomb Raider film not to be distributed by Paramount Pictures, it was released in the United Kingdom on March 14, 2018, and in the United States on March 16, 2018, by Warner Bros. Pictures. The film grossed $274 million worldwide, the same as the 2001 film of the same name and more than its 2003 sequel, although it needed to gross at least $275 million to break even.\\nTomb Raider received mixed reviews from critics, with some describing the plot as painted \"by the numbers\", and others praising the action sequences, tone, grittiness, and realistic take on the franchise. Vikander\\'s performance and the characterization of Croft drew a polarized response, with some describing her as a \"capable, powerful, and unobjectified heroine\", while others called her bland, and a \"punching bag and onlooker\".\\nA sequel was initially in development with Vikander set to return, but was cancelled in 2022 after MGM\\'s rights to the Tomb Raider series expired, while Vikander stepped down from the role. Another reboot film, set to be part of a shared universe that will include a television series and a video game, is in development at Amazon Studios.\\n\\n\\n    \\n    '\n",
      "Invoking LLM with prompt: text=\" \\n    Combine the results from movie name, movie plot description and youtube trailer link below into  a well written movie recommendation::\\n    Tomb Raider\\n    Alicia Vikander stars as Lara Croft in this 2018 action-adventure film, which follows her perilous journey to solve the mystery of her father's disappearance. The movie was released in the UK and US in March 2018 and grossed $274 million worldwide. It received mixed reviews from critics, with some praising the action sequences and others criticizing Vikander's performance as bland.\\n    https://www.youtube.com/watch?v=8ndhidEmUbI&pp=ygUZVG9tYiBSYWlkZXIgbW92aWUgdHJhaWxlcg%3D%3D\\n    \"\n",
      "Here's a well-written movie recommendation based on the provided information:\n",
      "\n",
      "**Get Ready for Non-Stop Action and Adventure with Tomb Raider!**\n",
      "\n",
      "Are you looking for a thrilling ride that will keep you on the edge of your seat? Look no further than the 2018 action-adventure film, Tomb Raider. Starring Alicia Vikander as the iconic Lara Croft, this movie is a must-watch for fans of the genre.\n",
      "\n",
      "The story follows Lara as she embarks on a perilous journey to uncover the truth about her father's disappearance. As she delves deeper into the mystery, she faces numerous challenges and obstacles that will test her skills, bravery, and determination. With heart-pumping action sequences and stunning visuals, this movie is sure to keep you entertained from start to finish.\n",
      "\n",
      "While some critics may have had mixed opinions about Vikander's performance, we think she shines as the strong and resourceful Lara Croft. And with a budget of $275 million worldwide, it's clear that this film delivered on its promise of non-stop action and adventure.\n",
      "\n",
      "So what are you waiting for? Watch the thrilling trailer below to get a glimpse of the excitement that awaits:\n",
      "\n",
      "**YouTube Trailer Link:** https://www.youtube.com/watch?v=8ndhidEmUbI&pp=ygUZVG9tYiBSYWlkZXIgbW92aWUgdHJhaWxlcg%3D%3D\n",
      "\n",
      "**Tomb Raider (2018) - Available on various streaming platforms and DVD. Get ready to join Lara Croft on her unforgettable journey!**\n"
     ]
    }
   ],
   "source": [
    "from langchain_core.output_parsers import StrOutputParser\n",
    "from langchain_core.runnables import RunnablePassthrough\n",
    "\n",
    "# create a chain to ask LLM for a movie recommendation and parse the output\n",
    "recommend_movie_chain = (\n",
    "                  prompt_template | \n",
    "                  invoke_llm | \n",
    "                  StrOutputParser() | \n",
    "                  extract_movie )\n",
    "\n",
    "# test chain\n",
    "#recommend_movie_chain.invoke(input={\"genre\":\"action\", \"actor\":\"al pacino\"})\n",
    "\n",
    "### result\n",
    "# 'House of Gucci'\n",
    "\n",
    "\n",
    "wiki_template = PromptTemplate.from_template(\n",
    "    \"\"\" \n",
    "    Summarize the below movie description in a few sentences, only output the summary nothing else:: \n",
    "    \n",
    "    {wiki_dump}\n",
    "    \n",
    "    \"\"\"\n",
    ")\n",
    "\n",
    "# chain for generating movie plot from wikipedia\n",
    "movie_plot_chain = (\n",
    "                retrieve_movie_info \n",
    "                | wiki_template \n",
    "                | invoke_llm \n",
    "                | StrOutputParser())\n",
    "\n",
    "# chain for grabbing movie trailer from youtube\n",
    "youtube_trailer_chain = get_youtube_trailer\n",
    "\n",
    "final_response = PromptTemplate.from_template(\n",
    "  \"\"\" \n",
    "    Combine the results from movie name, movie plot description and youtube trailer link below into  a well written movie recommendation::\n",
    "    {movie}\n",
    "    {movie_plot}\n",
    "    {youtube_trailer}\n",
    "    \"\"\"\n",
    ")\n",
    "\n",
    "# chain of chains\n",
    "chain = (\n",
    "          recommend_movie_chain | StrOutputParser()\n",
    "          | {\"movie\": RunnablePassthrough(), \"movie_plot\": movie_plot_chain , \"youtube_trailer\": youtube_trailer_chain} \n",
    "          | final_response \n",
    "          | invoke_llm       \n",
    "        )\n",
    "\n",
    "print(chain.invoke(input={\"genre\":\"action\", \"actor\":\"angelina jolie\"}))"
   ]
  },
  {
   "cell_type": "code",
   "execution_count": 7,
   "metadata": {},
   "outputs": [
    {
     "name": "stdout",
     "output_type": "stream",
     "text": [
      "                                      +-------------+                                        \n",
      "                                      | PromptInput |                                        \n",
      "                                      +-------------+                                        \n",
      "                                             *                                               \n",
      "                                             *                                               \n",
      "                                             *                                               \n",
      "                                    +----------------+                                       \n",
      "                                    | PromptTemplate |                                       \n",
      "                                    +----------------+                                       \n",
      "                                             *                                               \n",
      "                                             *                                               \n",
      "                                             *                                               \n",
      "                                      +------------+                                         \n",
      "                                      | invoke_llm |                                         \n",
      "                                      +------------+                                         \n",
      "                                             *                                               \n",
      "                                             *                                               \n",
      "                                             *                                               \n",
      "                                    +-----------------+                                      \n",
      "                                    | StrOutputParser |                                      \n",
      "                                    +-----------------+                                      \n",
      "                                             *                                               \n",
      "                                             *                                               \n",
      "                                             *                                               \n",
      "                                     +---------------+                                       \n",
      "                                     | extract_movie |                                       \n",
      "                                     +---------------+                                       \n",
      "                                             *                                               \n",
      "                                             *                                               \n",
      "                                             *                                               \n",
      "                                    +-----------------+                                      \n",
      "                                    | StrOutputParser |                                      \n",
      "                                    +-----------------+                                      \n",
      "                                             *                                               \n",
      "                                             *                                               \n",
      "                                             *                                               \n",
      "                    +-------------------------------------------------+                      \n",
      "                    | Parallel<movie,movie_plot,youtube_trailer>Input |                      \n",
      "                    +-------------------------------------------------+                      \n",
      "                          ******             *              ******                           \n",
      "                    ******                    *                   *****                      \n",
      "                 ***                          *                        ******                \n",
      "+---------------------+                       *                              ***             \n",
      "| retrieve_movie_info |                       *                                *             \n",
      "+---------------------+                       *                                *             \n",
      "            *                                 *                                *             \n",
      "            *                                 *                                *             \n",
      "            *                                 *                                *             \n",
      "  +----------------+                          *                                *             \n",
      "  | PromptTemplate |                          *                                *             \n",
      "  +----------------+                          *                                *             \n",
      "            *                                 *                                *             \n",
      "            *                                 *                                *             \n",
      "            *                                 *                                *             \n",
      "    +------------+                            *                                *             \n",
      "    | invoke_llm |                            *                                *             \n",
      "    +------------+                            *                                *             \n",
      "            *                                 *                                *             \n",
      "            *                                 *                                *             \n",
      "            *                                 *                                *             \n",
      "  +-----------------+                 +-------------+               +---------------------+  \n",
      "  | StrOutputParser |                 | Passthrough |               | get_youtube_trailer |  \n",
      "  +-----------------+*****            +-------------+            ***+---------------------+  \n",
      "                          ******              *             *****                            \n",
      "                                ******       *        ******                                 \n",
      "                                      ***    *     ***                                       \n",
      "                   +--------------------------------------------------+                      \n",
      "                   | Parallel<movie,movie_plot,youtube_trailer>Output |                      \n",
      "                   +--------------------------------------------------+                      \n",
      "                                             *                                               \n",
      "                                             *                                               \n",
      "                                             *                                               \n",
      "                                    +----------------+                                       \n",
      "                                    | PromptTemplate |                                       \n",
      "                                    +----------------+                                       \n",
      "                                             *                                               \n",
      "                                             *                                               \n",
      "                                             *                                               \n",
      "                                      +------------+                                         \n",
      "                                      | invoke_llm |                                         \n",
      "                                      +------------+                                         \n",
      "                                             *                                               \n",
      "                                             *                                               \n",
      "                                             *                                               \n",
      "                                   +-------------------+                                     \n",
      "                                   | invoke_llm_output |                                     \n",
      "                                   +-------------------+                                     \n"
     ]
    }
   ],
   "source": [
    "chain.get_graph().print_ascii()"
   ]
  },
  {
   "cell_type": "code",
   "execution_count": null,
   "metadata": {},
   "outputs": [],
   "source": []
  }
 ],
 "metadata": {
  "kernelspec": {
   "display_name": "Python 3 (ipykernel)",
   "language": "python",
   "name": "python3"
  }
 },
 "nbformat": 4,
 "nbformat_minor": 2
}
