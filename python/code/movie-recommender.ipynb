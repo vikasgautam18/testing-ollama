{
 "cells": [
  {
   "cell_type": "code",
   "execution_count": 1,
   "metadata": {},
   "outputs": [
    {
     "name": "stdout",
     "output_type": "stream",
     "text": [
      "Note: you may need to restart the kernel to use updated packages.\n"
     ]
    }
   ],
   "source": [
    "# installs necessary packages \n",
    "# remove --quiet to see the verbose output\n",
    "\n",
    "\n",
    "%pip install -U --quiet langchain-core langchain-community==0.2.6 youtube_search Wikipedia grandalf langchain-ollama\n",
    "\n"
   ]
  },
  {
   "cell_type": "code",
   "execution_count": 2,
   "metadata": {},
   "outputs": [
    {
     "data": {
      "text/plain": [
       "'You are a movie recommendation system. \\n    Recommend a movie based on the genre and actor below.\\n    Genre: drama\\n    Actor: Brad Pitt\\n    \\n    Output the movie name in the form of a json e.g. {\"movie_name\": \"movie name\"}. \\n    Output only the json without any additional information or side notes.\\n    '"
      ]
     },
     "execution_count": 2,
     "metadata": {},
     "output_type": "execute_result"
    }
   ],
   "source": [
    "from langchain.prompts import PromptTemplate\n",
    "\n",
    "prompt_template = PromptTemplate.from_template('''You are a movie recommendation system. \n",
    "    Recommend a movie based on the genre and actor below.\n",
    "    Genre: {genre}\n",
    "    Actor: {actor}\n",
    "    \n",
    "    Output the movie name in the form of a json e.g. {{\"movie_name\": \"movie name\"}}. \n",
    "    Output only the json without any additional information or side notes.\n",
    "    ''')\n",
    "\n",
    "# test\n",
    "prompt_template.format(genre=\"drama\", actor=\"Brad Pitt\")"
   ]
  },
  {
   "cell_type": "code",
   "execution_count": 3,
   "metadata": {},
   "outputs": [
    {
     "name": "stdout",
     "output_type": "stream",
     "text": [
      "Invoking LLM with prompt: You are a movie recommendation system. \n",
      "    Recommend a movie based on the genre and actor below.\n",
      "    Genre: Action\n",
      "    Actor: Al Pacino\n",
      "    \n",
      "    Output the movie name in the form of a json e.g. {\"movie_name\": \"movie name\"}. \n",
      "    Output only the json without any additional information or side notes.\n",
      "    \n"
     ]
    },
    {
     "data": {
      "text/plain": [
       "'{\"movie_name\": \"Carlito\\'s Way\"}'"
      ]
     },
     "execution_count": 3,
     "metadata": {},
     "output_type": "execute_result"
    }
   ],
   "source": [
    "from langchain_ollama import ChatOllama \n",
    "import json\n",
    "\n",
    "# function to invoke the llm \n",
    "def invoke_llm(prompt):\n",
    "    print(f\"Invoking LLM with prompt: {prompt}\")\n",
    "    llm = ChatOllama(\n",
    "        model=\"llama3.1:8b\",\n",
    "        temperature=1,\n",
    "        max_tokens=512\n",
    "    )\n",
    "    ai_message = llm.invoke(prompt)\n",
    "    return ai_message.content\n",
    "\n",
    "# function to extract the movie name from the json output of the llm\n",
    "def extract_movie (text:str) -> str:\n",
    "    return json.loads(text)['movie_name']\n",
    "\n",
    "# test LLM\n",
    "invoke_llm(prompt_template.format(genre=\"Action\", actor=\"Al Pacino\"))\n"
   ]
  },
  {
   "cell_type": "code",
   "execution_count": 4,
   "metadata": {},
   "outputs": [
    {
     "name": "stdout",
     "output_type": "stream",
     "text": [
      "Invoking LLM with prompt: You are a movie recommendation system. \n",
      "    Recommend a movie based on the genre and actor below.\n",
      "    Genre: Action\n",
      "    Actor: Al Pacino\n",
      "    \n",
      "    Output the movie name in the form of a json e.g. {\"movie_name\": \"movie name\"}. \n",
      "    Output only the json without any additional information or side notes.\n",
      "    \n"
     ]
    },
    {
     "data": {
      "text/plain": [
       "'Serpico'"
      ]
     },
     "execution_count": 4,
     "metadata": {},
     "output_type": "execute_result"
    }
   ],
   "source": [
    "# test extract movie fumction\n",
    "movie = extract_movie(invoke_llm(prompt_template.format(genre=\"Action\", actor=\"Al Pacino\")))\n",
    "movie"
   ]
  },
  {
   "cell_type": "code",
   "execution_count": 11,
   "metadata": {},
   "outputs": [
    {
     "name": "stdout",
     "output_type": "stream",
     "text": [
      "Searching for Collateral Damage movie info on wikipedia\n",
      "Collateral Damage is a 2002 American vigilante action-thriller film directed by Andrew Davis and starring Arnold Schwarzenegger, Elias Koteas, Francesca Neri, Cliff Curtis, John Leguizamo, and John Turturro. The film tells the story of Los Angeles firefighter Gordon Brewer (Schwarzenegger), who seeks to avenge his son's and wife's deaths at the hands of a guerrilla commando, by traveling to Colombia and facing his family's killers. \n",
      "Collateral Damage was released in the United States on February 8, 2002, to negative reviews, and was a commercial failure.\n"
     ]
    }
   ],
   "source": [
    "from langchain_community.retrievers import WikipediaRetriever\n",
    "\n",
    "# function to retrieve movie info from wikipedia\n",
    "def retrieve_movie_info(movie):\n",
    "  print(f\"Searching for {movie} movie info on wikipedia\")\n",
    "  retriever = WikipediaRetriever()\n",
    "  docs = retriever.invoke(input=f\"Hollywood english movie: {movie}\")\n",
    "  return docs[0].metadata['summary']\n",
    "\n",
    "# test retrieve movie info function\n",
    "movie_plot = retrieve_movie_info(\"Collateral Damage\")\n",
    "print(movie_plot)"
   ]
  },
  {
   "cell_type": "code",
   "execution_count": 12,
   "metadata": {},
   "outputs": [
    {
     "name": "stdout",
     "output_type": "stream",
     "text": [
      "Searching for The Shawshank Redemption movie trailer on youtube\n"
     ]
    },
    {
     "data": {
      "text/plain": [
       "'https://www.youtube.com/watch?v=PLl99DlL6b4&pp=ygUmVGhlIFNoYXdzaGFuayBSZWRlbXB0aW9uIG1vdmllIHRyYWlsZXI%3D'"
      ]
     },
     "execution_count": 12,
     "metadata": {},
     "output_type": "execute_result"
    }
   ],
   "source": [
    "from langchain_community.tools import YouTubeSearchTool\n",
    "\n",
    "# function to get the youtube trailer link\n",
    "def get_youtube_trailer(movie):\n",
    "  print(f\"Searching for {movie} movie trailer on youtube\")\n",
    "  tool = YouTubeSearchTool()\n",
    "  return tool.run(f\"{movie} movie trailer\").split(\"'\")[1]\n",
    "\n",
    "\n",
    "#test get youtube trailer function\n",
    "get_youtube_trailer(\"The Shawshank Redemption\")"
   ]
  },
  {
   "cell_type": "code",
   "execution_count": 13,
   "metadata": {},
   "outputs": [
    {
     "name": "stdout",
     "output_type": "stream",
     "text": [
      "Invoking LLM with prompt: text='You are a movie recommendation system. \\n    Recommend a movie based on the genre and actor below.\\n    Genre: action\\n    Actor: Tom Cruise\\n    \\n    Output the movie name in the form of a json e.g. {\"movie_name\": \"movie name\"}. \\n    Output only the json without any additional information or side notes.\\n    '\n",
      "Searching for Mission: Impossible movie info on wikipedia\n",
      "Searching for Mission: Impossible movie trailer on youtube\n",
      "Invoking LLM with prompt: text=\" \\n    Summarize the below movie description in a few sentences, only output the summary nothing else:: \\n    \\n    Mission: Impossible – Rogue Nation is a 2015 American action spy film written and directed by Christopher McQuarrie from a story by McQuarrie and Drew Pearce. It is the sequel to Mission: Impossible – Ghost Protocol (2011) and the fifth installment in the Mission: Impossible film series. It stars Tom Cruise, Jeremy Renner, Simon Pegg, Ving Rhames, Rebecca Ferguson, Sean Harris and Alec Baldwin. It follows Impossible Missions Force agent Ethan Hunt (Cruise) and his team, who, subsequent to their disbandment and Hunt's pursuit by the Central Intelligence Agency, must fight The Syndicate, an international group of rogue government agents.\\nMcQuarrie, who completed uncredited rewrites for Mission: Impossible – Ghost Protocol, was announced as the director of Mission: Impossible – Rogue Nation in August 2013. The returns of Cruise, Renner, Pegg and Rhames were confirmed by July 2014 while the screenplay was also developed by Pearce and Will Staples; it was ultimately solely credited to McQuarrie, with Pearce receiving story credit. Ferguson, Harris and Baldwin rounded out the cast that October. Principal photography was from August 2014 to March 2015, in locations including Vienna, Casablanca, London, and at Leavesden Studios in Hertfordshire. The film's official title was revealed in March 2015.\\nOriginally scheduled for worldwide release on December 25, 2015, it premiered at the Vienna State Opera (one of its filming locations) on July 23, 2015, and was theatrically released in the US by Paramount Pictures a week later. It received widespread critical acclaim, with praise for its action sequences, performances (particularly those of Cruise, Pegg, and Ferguson), screenwriting, and direction. It grossed $683 million worldwide, becoming the eighth-highest-grossing film of 2015 and the then-second-highest-grossing film in the franchise. A sequel, Mission: Impossible – Fallout, was released in July 2018, to similar universal acclaim.\\n    \\n    \"\n",
      "Invoking LLM with prompt: text=' \\n    Combine the results from movie name, movie plot description and youtube trailer link below into  a well written movie recommendation::\\n    Mission: Impossible\\n    Tom Cruise stars as Ethan Hunt in Mission: Impossible - Rogue Nation, a 2015 action spy film where he and his team must fight an international group of rogue government agents known as The Syndicate. The movie received critical acclaim for its action sequences, performances, screenwriting, and direction. It grossed $683 million worldwide.\\n    https://www.youtube.com/watch?v=avz06PDqDbM&pp=ygUhTWlzc2lvbjogSW1wb3NzaWJsZSBtb3ZpZSB0cmFpbGVy\\n    '\n"
     ]
    }
   ],
   "source": [
    "from langchain_core.output_parsers import StrOutputParser\n",
    "from langchain_core.runnables import RunnablePassthrough\n",
    "\n",
    "# create a chain to ask LLM for a movie recommendation and parse the output\n",
    "recommend_movie_chain = (\n",
    "                  prompt_template | \n",
    "                  invoke_llm | \n",
    "                  StrOutputParser() | \n",
    "                  extract_movie )\n",
    "\n",
    "# test chain\n",
    "#recommend_movie_chain.invoke(input={\"genre\":\"action\", \"actor\":\"al pacino\"})\n",
    "\n",
    "### result\n",
    "# 'House of Gucci'\n",
    "\n",
    "\n",
    "wiki_template = PromptTemplate.from_template(\n",
    "    \"\"\" \n",
    "    Summarize the below movie description in a few sentences, only output the summary nothing else:: \n",
    "    \n",
    "    {wiki_dump}\n",
    "    \n",
    "    \"\"\"\n",
    ")\n",
    "\n",
    "# chain for generating movie plot from wikipedia\n",
    "movie_plot_chain = (\n",
    "                retrieve_movie_info \n",
    "                | wiki_template \n",
    "                | invoke_llm \n",
    "                | StrOutputParser())\n",
    "\n",
    "# chain for grabbing movie trailer from youtube\n",
    "youtube_trailer_chain = get_youtube_trailer\n",
    "\n",
    "final_response = PromptTemplate.from_template(\n",
    "  \"\"\" \n",
    "    Combine the results from movie name, movie plot description and youtube trailer link below into  a well written movie recommendation::\n",
    "    {movie}\n",
    "    {movie_plot}\n",
    "    {youtube_trailer}\n",
    "    \"\"\"\n",
    ")\n",
    "\n",
    "# chain of chains\n",
    "chain = (\n",
    "          recommend_movie_chain | StrOutputParser()\n",
    "          | {\"movie\": RunnablePassthrough(), \"movie_plot\": movie_plot_chain , \"youtube_trailer\": youtube_trailer_chain} \n",
    "          | final_response \n",
    "          | invoke_llm       \n",
    "        )\n",
    "\n",
    "print(chain.invoke(input={\"genre\":\"action\", \"actor\":\"Tom Cruise\"}))"
   ]
  },
  {
   "cell_type": "code",
   "execution_count": null,
   "metadata": {},
   "outputs": [
    {
     "name": "stdout",
     "output_type": "stream",
     "text": [
      "                                      +-------------+                                    \n",
      "                                      | PromptInput |                                    \n",
      "                                      +-------------+                                    \n",
      "                                              *                                          \n",
      "                                              *                                          \n",
      "                                              *                                          \n",
      "                                    +----------------+                                   \n",
      "                                    | PromptTemplate |                                   \n",
      "                                    +----------------+                                   \n",
      "                                              *                                          \n",
      "                                              *                                          \n",
      "                                              *                                          \n",
      "                                      +------------+                                     \n",
      "                                      | invoke_llm |                                     \n",
      "                                      +------------+                                     \n",
      "                                              *                                          \n",
      "                                              *                                          \n",
      "                                              *                                          \n",
      "                                    +-----------------+                                  \n",
      "                                    | StrOutputParser |                                  \n",
      "                                    +-----------------+                                  \n",
      "                                              *                                          \n",
      "                                              *                                          \n",
      "                                              *                                          \n",
      "                                     +---------------+                                   \n",
      "                                     | extract_movie |                                   \n",
      "                                     +---------------+                                   \n",
      "                                              *                                          \n",
      "                                              *                                          \n",
      "                                              *                                          \n",
      "                                    +-----------------+                                  \n",
      "                                    | StrOutputParser |                                  \n",
      "                                    +-----------------+                                  \n",
      "                                              *                                          \n",
      "                                              *                                          \n",
      "                                              *                                          \n",
      "                    +-------------------------------------------------+                  \n",
      "                    | Parallel<movie,movie_plot,youtube_trailer>Input |                  \n",
      "                    +-------------------------------------------------+                  \n",
      "                          ******              *             ******                       \n",
      "                    ******                    *                   ******                 \n",
      "                 ***                          *                         ******           \n",
      "+---------------------+                       *                               ***        \n",
      "| retrieve_movie_info |                       *                                 *        \n",
      "+---------------------+                       *                                 *        \n",
      "            *                                 *                                 *        \n",
      "            *                                 *                                 *        \n",
      "            *                                 *                                 *        \n",
      "  +----------------+                          *                                 *        \n",
      "  | PromptTemplate |                          *                                 *        \n",
      "  +----------------+                          *                                 *        \n",
      "            *                                 *                                 *        \n",
      "            *                                 *                                 *        \n",
      "            *                                 *                                 *        \n",
      "    +------------+                            *                                 *        \n",
      "    | invoke_llm |                            *                                 *        \n",
      "    +------------+                            *                                 *        \n",
      "            *                                 *                                 *        \n",
      "            *                                 *                                 *        \n",
      "            *                                 *                                 *        \n",
      "  +-----------------+              +---------------------+              +-------------+  \n",
      "  | StrOutputParser |              | get_youtube_trailer |              | Passthrough |  \n",
      "  +-----------------+*****         +---------------------+        ******+-------------+  \n",
      "                          ******              *             ******                       \n",
      "                                ******        *       ******                             \n",
      "                                      ***     *    ***                                   \n",
      "                    +--------------------------------------------------+                 \n",
      "                    | Parallel<movie,movie_plot,youtube_trailer>Output |                 \n",
      "                    +--------------------------------------------------+                 \n",
      "                                              *                                          \n",
      "                                              *                                          \n",
      "                                              *                                          \n",
      "                                    +----------------+                                   \n",
      "                                    | PromptTemplate |                                   \n",
      "                                    +----------------+                                   \n",
      "                                              *                                          \n",
      "                                              *                                          \n",
      "                                              *                                          \n",
      "                                      +------------+                                     \n",
      "                                      | invoke_llm |                                     \n",
      "                                      +------------+                                     \n",
      "                                              *                                          \n",
      "                                              *                                          \n",
      "                                              *                                          \n",
      "                                   +-------------------+                                 \n",
      "                                   | invoke_llm_output |                                 \n",
      "                                   +-------------------+                                 \n"
     ]
    }
   ],
   "source": [
    "chain.get_graph().print_ascii()"
   ]
  },
  {
   "cell_type": "code",
   "execution_count": null,
   "metadata": {},
   "outputs": [],
   "source": []
  }
 ],
 "metadata": {
  "kernelspec": {
   "display_name": "Python 3 (ipykernel)",
   "language": "python",
   "name": "python3"
  },
  "language_info": {
   "codemirror_mode": {
    "name": "ipython",
    "version": 3
   },
   "file_extension": ".py",
   "mimetype": "text/x-python",
   "name": "python",
   "nbconvert_exporter": "python",
   "pygments_lexer": "ipython3",
   "version": "3.12.3"
  }
 },
 "nbformat": 4,
 "nbformat_minor": 2
}
