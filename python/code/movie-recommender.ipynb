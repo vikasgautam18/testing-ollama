{
 "cells": [
  {
   "cell_type": "code",
   "execution_count": 1,
   "metadata": {},
   "outputs": [
    {
     "name": "stdout",
     "output_type": "stream",
     "text": [
      "Note: you may need to restart the kernel to use updated packages.\n"
     ]
    }
   ],
   "source": [
    "%pip install -U --quiet langchain-core langchain-community==0.2.6 youtube_search Wikipedia grandalf langchain-ollama\n",
    "\n"
   ]
  },
  {
   "cell_type": "code",
   "execution_count": 2,
   "metadata": {},
   "outputs": [
    {
     "data": {
      "text/plain": [
       "'Tell me the name of latest drama movie in which Brad Pitt is one of the actors. \\n  Output the movie name in the form of a json e.g. {\"movie_name\": \"movie name\"}. \\n  Output only the json without any additional information or side notes.\\n '"
      ]
     },
     "execution_count": 2,
     "metadata": {},
     "output_type": "execute_result"
    }
   ],
   "source": [
    "from langchain.prompts import PromptTemplate\n",
    "\n",
    "prompt_template = PromptTemplate.from_template('''Tell me the name of latest {genre} movie in which {actor} is one of the actors. \n",
    "  Output the movie name in the form of a json e.g. {{\"movie_name\": \"movie name\"}}. \n",
    "  Output only the json without any additional information or side notes.\n",
    " ''')\n",
    " \n",
    " # test\n",
    "prompt_template.format(genre=\"drama\", actor=\"Brad Pitt\")"
   ]
  },
  {
   "cell_type": "code",
   "execution_count": 3,
   "metadata": {},
   "outputs": [
    {
     "data": {
      "text/plain": [
       "'{\"movie_name\": \"Misbehavior\"}'"
      ]
     },
     "execution_count": 3,
     "metadata": {},
     "output_type": "execute_result"
    }
   ],
   "source": [
    "from langchain_ollama import ChatOllama \n",
    "import json\n",
    "\n",
    "def invoke_llm(prompt):\n",
    "    llm = ChatOllama(\n",
    "        model=\"llama3\",\n",
    "        temperature=0.6, \n",
    "        max_tokens=512\n",
    "    )\n",
    "    ai_message = llm.invoke(prompt)\n",
    "    return ai_message.content\n",
    "\n",
    "def extract_movie (text:str) -> str:\n",
    "    return json.loads(text)['movie_name']\n",
    "\n",
    "# test LLM\n",
    "invoke_llm(prompt_template.format(genre=\"Action\", actor=\"Al Pacino\"))\n"
   ]
  },
  {
   "cell_type": "code",
   "execution_count": 4,
   "metadata": {},
   "outputs": [
    {
     "data": {
      "text/plain": [
       "'The Irishman'"
      ]
     },
     "execution_count": 4,
     "metadata": {},
     "output_type": "execute_result"
    }
   ],
   "source": [
    "movie = extract_movie(invoke_llm(prompt_template.format(genre=\"Action\", actor=\"Al Pacino\")))\n",
    "movie"
   ]
  },
  {
   "cell_type": "code",
   "execution_count": 5,
   "metadata": {},
   "outputs": [
    {
     "name": "stdout",
     "output_type": "stream",
     "text": [
      "House of Gucci is a 2021 American biographical crime drama film directed by Ridley Scott, based on t\n"
     ]
    }
   ],
   "source": [
    "from langchain_community.retrievers import WikipediaRetriever\n",
    "\n",
    "def retrieve_movie_info(movie):\n",
    "  retriever = WikipediaRetriever()\n",
    "  return retriever.invoke(input=f\"hollywood english movie: {movie}\")\n",
    "\n",
    "# test\n",
    "docs = retrieve_movie_info(\"House of Gucci\")\n",
    "print(docs[0].page_content[:100])"
   ]
  },
  {
   "cell_type": "code",
   "execution_count": 6,
   "metadata": {},
   "outputs": [
    {
     "data": {
      "text/plain": [
       "'https://www.youtube.com/watch?v=PLl99DlL6b4&pp=ygUmVGhlIFNoYXdzaGFuayBSZWRlbXB0aW9uIG1vdmllIHRyYWlsZXI%3D'"
      ]
     },
     "execution_count": 6,
     "metadata": {},
     "output_type": "execute_result"
    }
   ],
   "source": [
    "from langchain_community.tools import YouTubeSearchTool\n",
    "\n",
    "def get_youtube_trailer(movie):\n",
    "  tool = YouTubeSearchTool()\n",
    "  return tool.run(f\"{movie} movie trailer\").split(\"'\")[1]\n",
    "\n",
    "\n",
    "#test \n",
    "get_youtube_trailer(\"The Shawshank Redemption\")"
   ]
  },
  {
   "cell_type": "code",
   "execution_count": 7,
   "metadata": {},
   "outputs": [
    {
     "data": {
      "text/plain": [
       "'The Irishman'"
      ]
     },
     "execution_count": 7,
     "metadata": {},
     "output_type": "execute_result"
    }
   ],
   "source": [
    "from langchain_core.output_parsers import StrOutputParser\n",
    "\n",
    "recommend_movie_chain =  prompt_template | invoke_llm | StrOutputParser() | extract_movie \n",
    "\n",
    "# test chain 1\n",
    "recommend_movie_chain.invoke(input={\"genre\":\"action\", \"actor\":\"al pacino\"})"
   ]
  },
  {
   "cell_type": "code",
   "execution_count": 13,
   "metadata": {},
   "outputs": [],
   "source": [
    "wiki_template = PromptTemplate.from_template(\n",
    "    \"\"\" \n",
    "    Summarize the below movie description in a few sentences, only output the summary nothing else:: \n",
    "    \n",
    "    {wiki_dump}\n",
    "    \n",
    "    \"\"\"\n",
    ")"
   ]
  },
  {
   "cell_type": "code",
   "execution_count": 14,
   "metadata": {},
   "outputs": [],
   "source": [
    "final_response = PromptTemplate.from_template(\n",
    "  \"\"\" \n",
    "    Combine the results from movie name, movie plot description and youtube trailer link below into  a well written movie recommendation::\n",
    "    \n",
    "    {movie_plot}\n",
    "    {youtube_trailer}\n",
    "    \"\"\"\n",
    ")"
   ]
  },
  {
   "cell_type": "code",
   "execution_count": 15,
   "metadata": {},
   "outputs": [],
   "source": [
    "movie_plot_chain = retrieve_movie_info | wiki_template | invoke_llm | StrOutputParser()"
   ]
  },
  {
   "cell_type": "code",
   "execution_count": 16,
   "metadata": {},
   "outputs": [],
   "source": [
    "youtube_trailer_chain = get_youtube_trailer"
   ]
  },
  {
   "cell_type": "code",
   "execution_count": 17,
   "metadata": {},
   "outputs": [
    {
     "name": "stdout",
     "output_type": "stream",
     "text": [
      "The Irishman\n"
     ]
    }
   ],
   "source": [
    "chain_test = (recommend_movie_chain | StrOutputParser() )\n",
    "          \n",
    "print(chain_test.invoke(input={\"genre\":\"action\", \"actor\":\"al pacino\"}))"
   ]
  },
  {
   "cell_type": "code",
   "execution_count": 18,
   "metadata": {},
   "outputs": [],
   "source": [
    "chain = (\n",
    "          recommend_movie_chain | StrOutputParser()\n",
    "          | {\"movie_plot\": movie_plot_chain , \"youtube_trailer\": youtube_trailer_chain} \n",
    "          | final_response \n",
    "          | invoke_llm       \n",
    "        )\n"
   ]
  },
  {
   "cell_type": "code",
   "execution_count": 21,
   "metadata": {},
   "outputs": [
    {
     "name": "stdout",
     "output_type": "stream",
     "text": [
      "Here's a well-written movie recommendation combining the results:\n",
      "\n",
      "**Movie Recommendation:** Top Gun (1986)\n",
      "\n",
      "Get ready to experience the thrill of high-octane action and heart-pumping drama with Tom Cruise in this iconic 80s classic, Top Gun! This 1986 film tells the story of Lieutenant Pete \"Maverick\" Mitchell, a young naval aviator who enrolls at the prestigious US Navy's Fighter Weapons School (Top Gun) to hone his skills alongside his trusty radar intercept officer, Goose. With its stunning visual effects and memorable soundtrack, Top Gun has become a cultural phenomenon that continues to captivate audiences to this day.\n",
      "\n",
      "Watch the official trailer below to get a taste of the excitement:\n",
      "\n",
      "https://www.youtube.com/watch?v=qSqVVswa420&pp=ygUfVG9wIEd1bjogTWF2ZXJpY2sgbW92aWUgdHJhaWxlcg%3D%3D\n",
      "\n",
      "While initially receiving mixed reviews, Top Gun went on to become a huge commercial success and earned critical acclaim for its groundbreaking visual effects and memorable soundtrack. Don't miss this opportunity to experience the thrill of aerial dogfights, romance, and camaraderie in one of the most iconic films of the 1980s!\n"
     ]
    }
   ],
   "source": [
    "print(chain.invoke(input={\"genre\":\"action\", \"actor\":\"Tom Cruise\"}))"
   ]
  },
  {
   "cell_type": "code",
   "execution_count": 22,
   "metadata": {},
   "outputs": [
    {
     "name": "stdout",
     "output_type": "stream",
     "text": [
      "                      +-------------+                      \n",
      "                      | PromptInput |                      \n",
      "                      +-------------+                      \n",
      "                             *                             \n",
      "                             *                             \n",
      "                             *                             \n",
      "                    +----------------+                     \n",
      "                    | PromptTemplate |                     \n",
      "                    +----------------+                     \n",
      "                             *                             \n",
      "                             *                             \n",
      "                             *                             \n",
      "                      +------------+                       \n",
      "                      | invoke_llm |                       \n",
      "                      +------------+                       \n",
      "                             *                             \n",
      "                             *                             \n",
      "                             *                             \n",
      "                    +-----------------+                    \n",
      "                    | StrOutputParser |                    \n",
      "                    +-----------------+                    \n",
      "                             *                             \n",
      "                             *                             \n",
      "                             *                             \n",
      "                    +---------------+                      \n",
      "                    | extract_movie |                      \n",
      "                    +---------------+                      \n",
      "                             *                             \n",
      "                             *                             \n",
      "                             *                             \n",
      "                    +-----------------+                    \n",
      "                    | StrOutputParser |                    \n",
      "                    +-----------------+                    \n",
      "                             *                             \n",
      "                             *                             \n",
      "                             *                             \n",
      "      +-------------------------------------------+        \n",
      "      | Parallel<movie_plot,youtube_trailer>Input |        \n",
      "      +-------------------------------------------+        \n",
      "                   ***               ***                   \n",
      "                ***                     **                 \n",
      "              **                          ***              \n",
      "+---------------------+                      **            \n",
      "| retrieve_movie_info |                       *            \n",
      "+---------------------+                       *            \n",
      "            *                                 *            \n",
      "            *                                 *            \n",
      "            *                                 *            \n",
      "  +----------------+                          *            \n",
      "  | PromptTemplate |                          *            \n",
      "  +----------------+                          *            \n",
      "            *                                 *            \n",
      "            *                                 *            \n",
      "            *                                 *            \n",
      "    +------------+                            *            \n",
      "    | invoke_llm |                            *            \n",
      "    +------------+                            *            \n",
      "            *                                 *            \n",
      "            *                                 *            \n",
      "            *                                 *            \n",
      "  +-----------------+              +---------------------+ \n",
      "  | StrOutputParser |              | get_youtube_trailer | \n",
      "  +-----------------+              +---------------------+ \n",
      "                   ***               ***                   \n",
      "                      ***         ***                      \n",
      "                         **     **                         \n",
      "      +--------------------------------------------+       \n",
      "      | Parallel<movie_plot,youtube_trailer>Output |       \n",
      "      +--------------------------------------------+       \n",
      "                             *                             \n",
      "                             *                             \n",
      "                             *                             \n",
      "                    +----------------+                     \n",
      "                    | PromptTemplate |                     \n",
      "                    +----------------+                     \n",
      "                             *                             \n",
      "                             *                             \n",
      "                             *                             \n",
      "                      +------------+                       \n",
      "                      | invoke_llm |                       \n",
      "                      +------------+                       \n",
      "                             *                             \n",
      "                             *                             \n",
      "                             *                             \n",
      "                  +-------------------+                    \n",
      "                  | invoke_llm_output |                    \n",
      "                  +-------------------+                    \n"
     ]
    }
   ],
   "source": [
    "chain.get_graph().print_ascii()"
   ]
  },
  {
   "cell_type": "code",
   "execution_count": null,
   "metadata": {},
   "outputs": [],
   "source": []
  }
 ],
 "metadata": {
  "kernelspec": {
   "display_name": "Python 3 (ipykernel)",
   "language": "python",
   "name": "python3"
  }
 },
 "nbformat": 4,
 "nbformat_minor": 2
}
