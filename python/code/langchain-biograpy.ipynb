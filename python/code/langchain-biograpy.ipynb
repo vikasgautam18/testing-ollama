{
 "cells": [
  {
   "cell_type": "code",
   "execution_count": 1,
   "metadata": {},
   "outputs": [
    {
     "name": "stdout",
     "output_type": "stream",
     "text": [
      "Note: you may need to restart the kernel to use updated packages.\n"
     ]
    }
   ],
   "source": [
    "%pip install --upgrade --quiet \"wikibase-rest-api-client<0.2\" mediawikiapi"
   ]
  },
  {
   "cell_type": "code",
   "execution_count": 2,
   "metadata": {},
   "outputs": [
    {
     "name": "stdout",
     "output_type": "stream",
     "text": [
      "Result Q1001:\n",
      "Label: Mahatma Gandhi\n",
      "Description: Indian independence activist (1869–1948)\n",
      "Aliases: M. K. Gandhi, Mohandas K Gandhi, M K Gandhi, Mohandas Gandhi, Gandhi, Mohandas K. Gandhi, Gandhiji, Bapuji, Father of the Nation, Bapu, Mahatma Mohandas Karamchand Gandhi, Mohandas Karamchand Gandhi, MK Gandhi\n",
      "\n",
      "Result Q61781935:\n",
      "Label: Statue of Mahatma Gandhi\n",
      "Description: statue in Rio de Janeiro\n",
      "Aliases: Mahatma Gandhi, Mahatma Gandhi statue, Statue of Mahatma Gandhi, Rio de Janeiro\n"
     ]
    }
   ],
   "source": [
    "from langchain_community.tools.wikidata.tool import WikidataAPIWrapper, WikidataQueryRun\n",
    "\n",
    "wikidata = WikidataQueryRun(api_wrapper=WikidataAPIWrapper())\n",
    "\n",
    "print(wikidata.run(\"Mahatma Gandhi\"))"
   ]
  },
  {
   "cell_type": "code",
   "execution_count": null,
   "metadata": {},
   "outputs": [],
   "source": []
  }
 ],
 "metadata": {
  "kernelspec": {
   "display_name": "Python 3 (ipykernel)",
   "language": "python",
   "name": "python3"
  },
  "language_info": {
   "codemirror_mode": {
    "name": "ipython",
    "version": 3
   },
   "file_extension": ".py",
   "mimetype": "text/x-python",
   "name": "python",
   "nbconvert_exporter": "python",
   "pygments_lexer": "ipython3",
   "version": "3.12.4"
  }
 },
 "nbformat": 4,
 "nbformat_minor": 2
}
