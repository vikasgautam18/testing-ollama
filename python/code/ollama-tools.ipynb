{
 "cells": [
  {
   "cell_type": "code",
   "execution_count": 1,
   "metadata": {},
   "outputs": [],
   "source": [
    "import yfinance as yf\n",
    "\n",
    "def get_current_stock_price(ticker_symbol):\n",
    "\n",
    "  # Get the stock data\n",
    "  stock = yf.Ticker(ticker_symbol)\n",
    "\n",
    "  # Get the current price\n",
    "  current_price = stock.history(period='1d')['Close'].iloc[0]\n",
    "\n",
    "  return current_price"
   ]
  },
  {
   "cell_type": "code",
   "execution_count": 5,
   "metadata": {},
   "outputs": [
    {
     "name": "stdout",
     "output_type": "stream",
     "text": [
      "[{'function': {'name': 'get_current_stock_price', 'arguments': {'ticker_symbol': 'MSFT'}}}]\n"
     ]
    }
   ],
   "source": [
    "import ollama\n",
    "\n",
    "# Want the current price of Microsoft - ticker symbol MSFT\n",
    "\n",
    "response = ollama.chat(\n",
    "    model='llama3.1:8b',\n",
    "    messages=[{'role': 'user','content': \n",
    "        'What is the current price of MSFT'}],\n",
    "\n",
    "  # provide a tool to get the current price of a stock\n",
    "    tools=[{\n",
    "      'type': 'function',\n",
    "      'function': {\n",
    "        'name': 'get_current_stock_price',\n",
    "        'description': 'Get the current price for a stock',\n",
    "        'parameters': {\n",
    "          'type': 'object',\n",
    "          'properties': {\n",
    "            'ticker_symbol': {\n",
    "              'type': 'string',\n",
    "              'description': 'The ticker symbol of the stock',\n",
    "            },\n",
    "          },\n",
    "          'required': ['ticker_symbol'],\n",
    "        },\n",
    "      },\n",
    "    },\n",
    "  ],\n",
    ")\n",
    "\n",
    "print(response['message']['tool_calls'])"
   ]
  },
  {
   "cell_type": "code",
   "execution_count": 7,
   "metadata": {},
   "outputs": [
    {
     "name": "stdout",
     "output_type": "stream",
     "text": [
      "tool_call: {'function': {'name': 'get_current_stock_price', 'arguments': {'ticker_symbol': 'MSFT'}}}\n",
      "function_name: get_current_stock_price\n",
      "arguments: {'ticker_symbol': 'MSFT'}\n",
      "function_to_call: <function get_current_stock_price at 0x1053eb560>\n",
      "The current price of MSFT is : 417.1400146484375\n"
     ]
    }
   ],
   "source": [
    "# Create a dictionary mapping function names to functions\n",
    "function_map = {\n",
    "    'get_current_stock_price': get_current_stock_price,\n",
    "    # Add more functions here as needed\n",
    "}\n",
    "\n",
    "def call_function_safely(response, function_map):\n",
    "    # Extract the function name and arguments from the response\n",
    "    tool_call = response['message']['tool_calls'][0]\n",
    "    print(f\"tool_call: {tool_call}\")\n",
    "    \n",
    "    function_name = tool_call['function']['name']\n",
    "    print(f\"function_name: {function_name}\")\n",
    "    \n",
    "    arguments = tool_call['function']['arguments']\n",
    "    print(f\"arguments: {arguments}\")\n",
    "\n",
    "    # Look up the function in the function map\n",
    "    function_to_call = function_map.get(function_name)\n",
    "    print(f\"function_to_call: {function_to_call}\")\n",
    "    \n",
    "    if function_to_call:\n",
    "        try:\n",
    "            # Call the function with the arguments\n",
    "            result = function_to_call(**arguments)\n",
    "            print(f\"The current price of {arguments['ticker_symbol']} is : {result}\")\n",
    "        except TypeError as e:\n",
    "            print(f\"Argument error: {e}\")\n",
    "    else:\n",
    "        print(f\"{function_name} is not a recognized function\")\n",
    "\n",
    "call_function_safely(response, function_map)"
   ]
  },
  {
   "cell_type": "code",
   "execution_count": null,
   "metadata": {},
   "outputs": [],
   "source": []
  }
 ],
 "metadata": {
  "kernelspec": {
   "display_name": "Python 3 (ipykernel)",
   "language": "python",
   "name": "python3"
  },
  "language_info": {
   "codemirror_mode": {
    "name": "ipython",
    "version": 3
   },
   "file_extension": ".py",
   "mimetype": "text/x-python",
   "name": "python",
   "nbconvert_exporter": "python",
   "pygments_lexer": "ipython3",
   "version": "3.12.4"
  }
 },
 "nbformat": 4,
 "nbformat_minor": 2
}
